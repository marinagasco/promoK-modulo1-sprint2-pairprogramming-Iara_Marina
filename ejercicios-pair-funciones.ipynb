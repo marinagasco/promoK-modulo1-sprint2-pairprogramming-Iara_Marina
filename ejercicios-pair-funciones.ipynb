{
 "cells": [
  {
   "cell_type": "markdown",
   "metadata": {},
   "source": [
    "Pair programming Funciones\n"
   ]
  },
  {
   "cell_type": "code",
   "execution_count": 1,
   "metadata": {},
   "outputs": [],
   "source": [
    "import math"
   ]
  },
  {
   "cell_type": "code",
   "execution_count": 3,
   "metadata": {},
   "outputs": [
    {
     "name": "stdout",
     "output_type": "stream",
     "text": [
      "El área del circulo con el radio 7 es de 153.93804002589985\n"
     ]
    }
   ],
   "source": [
    "# 1. Calcular el área de un círculo.\n",
    "\n",
    "#Descripción: Crea una función llamada calcular_area_circulo que tome el radio como parámetro y devuelva el área del círculo.\n",
    "\n",
    "def calcular_area_circulo(radio):\n",
    "\n",
    "    resultado = math.pi * radio ** 2\n",
    "    return resultado\n",
    "\n",
    "#utilizar la función\n",
    "radio = 7\n",
    "area = calcular_area_circulo(radio)\n",
    "print (f\"El área del circulo con el radio {radio} es de {area}\")"
   ]
  },
  {
   "cell_type": "code",
   "execution_count": 4,
   "metadata": {},
   "outputs": [
    {
     "name": "stdout",
     "output_type": "stream",
     "text": [
      "78.53981633974483\n"
     ]
    }
   ],
   "source": [
    "radio1 = 5\n",
    "area2 = calcular_area_circulo(radio1)\n",
    "print (area2)"
   ]
  },
  {
   "cell_type": "code",
   "execution_count": 6,
   "metadata": {},
   "outputs": [
    {
     "name": "stdout",
     "output_type": "stream",
     "text": [
      "la cantidad es: 10\n"
     ]
    }
   ],
   "source": [
    "#Contar la cantidad de caracteres en una cadena.\n",
    "\n",
    "#Descripción: Crea una función llamada contar_caracteres que tome una cadena como parámetro y devuelva la cantidad de caracteres que contiene.\n",
    "\n",
    "def contar_caracteres (cadena):\n",
    "    resultado = len(cadena)\n",
    "\n",
    "    return resultado\n",
    "\n",
    "#utilizar\n",
    "cadena1 = \"hola mundo\"\n",
    "cantidad = contar_caracteres (cadena1)\n",
    "print(f\"la cantidad es: {cantidad}\")"
   ]
  },
  {
   "cell_type": "code",
   "execution_count": 7,
   "metadata": {},
   "outputs": [
    {
     "name": "stdout",
     "output_type": "stream",
     "text": [
      "El promedio de la lista1 es: 80.5\n"
     ]
    }
   ],
   "source": [
    "# 4.Calcular el promedio de una lista de números.\n",
    "\n",
    "#Descripción: Crea una función llamada calcular_promedio que tome una lista de números como parámetro y devuelva el promedio de todos sus elementos.\n",
    "\n",
    "def calcular_promedio(lista_num):\n",
    "    promedio = sum(lista_num) / len(lista_num)\n",
    "    return promedio \n",
    "\n",
    "\n",
    "#ejemplo\n",
    "lista1 = [58, 58, 63, 5, 1, 298]\n",
    "\n",
    "promedio1 = calcular_promedio(lista1)\n",
    "print(f\"El promedio de la lista1 es: {promedio1}\")"
   ]
  },
  {
   "cell_type": "code",
   "execution_count": 29,
   "metadata": {},
   "outputs": [
    {
     "name": "stdout",
     "output_type": "stream",
     "text": [
      "Es un anagrama True\n"
     ]
    }
   ],
   "source": [
    "# 5.Validar si una palabra es un anagrama de otra.\n",
    "\n",
    "#Descripción: Crea una función llamada es_anagrama que tome dos palabras como parámetros y devuelva True si una es un anagrama de la otra, o False si no lo es.\n",
    "\n",
    "def es_anagrama (palabra1, palabra2):\n",
    "    resultado = sorted(palabra1.lower()) == sorted(palabra2.lower())\n",
    "    return resultado \n",
    "\n",
    "#ejemplo\n",
    "palabra1 = \"roma\"\n",
    "palabra2 = \"amor\"\n",
    "\n",
    "anagrama = es_anagrama(palabra1, palabra2)\n",
    "print(f\"Es un anagrama {anagrama}\")\n",
    "\n"
   ]
  },
  {
   "cell_type": "code",
   "execution_count": 19,
   "metadata": {},
   "outputs": [
    {
     "name": "stdout",
     "output_type": "stream",
     "text": [
      "True\n"
     ]
    }
   ],
   "source": [
    "# 7.Validar si una cadena de texto es un isograma.\n",
    "\n",
    "#Descripción: Crea una función llamada es_isograma que tome una cadena de texto como parámetro y devuelva True si es un isograma. En caso contrario, devuelve False.\n",
    "\n",
    "def es_isograma (palabra3):\n",
    "    for letra in palabra3:\n",
    "        if letra != letra:\n",
    "            return False\n",
    "        else:\n",
    "            return True\n",
    "    \n",
    "\n",
    "#ejemplo\n",
    "\n",
    "palabra = \"casa\"\n",
    "resultado = es_isograma (palabra)\n",
    "print(resultado)\n",
    "\n",
    "# FALTA POR HACER\n"
   ]
  },
  {
   "cell_type": "code",
   "execution_count": 22,
   "metadata": {},
   "outputs": [
    {
     "name": "stdout",
     "output_type": "stream",
     "text": [
      "hola mundo\n"
     ]
    }
   ],
   "source": [
    "# 8. Concatenar múltiples cadenas de texto\n",
    "\n",
    "#Descripción: Crea una función llamada concatenar_cadenas que tome una cantidad variable de cadenas de texto como argumentos y devuelva una única cadena que contenga la concatenación de todas las cadenas ingresadas.\n",
    "\n",
    "def concatenar_cadenas (*cadenas):\n",
    "    resultado = ' '.join(*cadenas)\n",
    "\n",
    "    return resultado\n",
    "\n",
    "#ejemplo\n",
    "cadena1 = (\"hola\", \"mundo\")\n",
    "concatenar = concatenar_cadenas(cadena1)\n",
    "print(concatenar)\n"
   ]
  },
  {
   "cell_type": "code",
   "execution_count": 33,
   "metadata": {},
   "outputs": [
    {
     "name": "stdout",
     "output_type": "stream",
     "text": [
      "{'nombre': 'iara', 'edad': '33', 'ciudad': 'Barcelona'}\n"
     ]
    }
   ],
   "source": [
    "#Crear un diccionario con información de una persona.\n",
    "\n",
    "#Descripción: Crea una función llamada crear_persona que tome como argumentos clave-valor los datos de una persona, como nombre, edad, ciudad, etc., y devuelva un diccionario con toda la información ingresada.\n",
    "\n",
    "def crear_persona(nombre, edad, ciudad):\n",
    "    dic_persona = {}\n",
    "    dic_persona.update({\"nombre\": nombre, \"edad\": edad, \"ciudad\": ciudad})\n",
    "    return dic_persona\n",
    "\n",
    "#ejemplo\n",
    "nombre1 = \"iara\"\n",
    "edad1 = \"33\"\n",
    "ciudad1 = \"Barcelona\"\n",
    "dic_final = crear_persona(nombre1, edad1, ciudad1)\n",
    "print(dic_final)"
   ]
  }
 ],
 "metadata": {
  "kernelspec": {
   "display_name": "base",
   "language": "python",
   "name": "python3"
  },
  "language_info": {
   "codemirror_mode": {
    "name": "ipython",
    "version": 3
   },
   "file_extension": ".py",
   "mimetype": "text/x-python",
   "name": "python",
   "nbconvert_exporter": "python",
   "pygments_lexer": "ipython3",
   "version": "3.12.4"
  }
 },
 "nbformat": 4,
 "nbformat_minor": 2
}
