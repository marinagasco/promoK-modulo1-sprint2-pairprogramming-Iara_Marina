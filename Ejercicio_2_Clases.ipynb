{
 "cells": [
  {
   "cell_type": "markdown",
   "metadata": {},
   "source": [
    "**Pair programming Clases**:\n",
    "\n",
    "En este ejercicio de pair programming, vamos a crear una clase para gestionar la información de los empleados de nuestra empresa. Siguiendo las indicaciones del jefe, necesitamos organizar los datos de cada empleado de manera más estructurada."
   ]
  },
  {
   "cell_type": "code",
   "execution_count": 57,
   "metadata": {},
   "outputs": [],
   "source": [
    "from datetime import datetime"
   ]
  },
  {
   "cell_type": "code",
   "execution_count": 60,
   "metadata": {},
   "outputs": [],
   "source": [
    "#La clase Empleados permite gestionar información relacionada con los empleados de una empresa, con las siguientes características:\n",
    "class Empleados:\n",
    "    def __init__(self, nombre, apellidos, edad, posicion, año, vacaciones, herramientas):\n",
    "        self.nombre = nombre\n",
    "        self.apellidos = apellidos\n",
    "        self.edad = edad\n",
    "        self.posicion = posicion\n",
    "        self.año = año \n",
    "        self.vacaciones = vacaciones\n",
    "        self.herramientas = herramientas\n",
    "\n",
    "    def descripcion(self):\n",
    "        return f\"Empleado 1 : {self.nombre} {self.apellidos}, Posición:{self.posicion}, Año de ingreso:{self.año}, Días de vacaciones restantes:{self.vacaciones}\"\n",
    "    \n",
    "    def cambiando_posicion(self):\n",
    "        for tool in self.herramientas:\n",
    "            if tool.lower() == \"python\":\n",
    "                return f\"¡Qué bien, estamos muy orgulloses de ti!\"\n",
    "            elif tool.lower() == \"Excel\":\n",
    "                return f\"Deberías dejar de usar Execel y aprender Python.\"\n",
    "            else:\n",
    "                return f\"No tienes ninguna herramienta.\"\n",
    "                \n",
    "\n",
    "    def calcular_antiguedad(self, mes_ingreso = 1):\n",
    "        fecha_actual = datetime.now()\n",
    "        año_actual = fecha_actual.year \n",
    "        mes_actual = fecha_actual.month \n",
    "        año_antiguedad = año_actual - self.año\n",
    "        mes_antiguedad = mes_actual - mes_ingreso\n",
    "\n",
    "        return f\"{self.nombre} lleva {año_antiguedad} y {mes_antiguedad} en la empresa\""
   ]
  },
  {
   "cell_type": "code",
   "execution_count": 53,
   "metadata": {},
   "outputs": [
    {
     "name": "stdout",
     "output_type": "stream",
     "text": [
      "p\n",
      "y\n",
      "t\n",
      "h\n",
      "o\n",
      "n\n"
     ]
    }
   ],
   "source": [
    "for tool in \"python\":\n",
    "    print(tool)"
   ]
  },
  {
   "cell_type": "code",
   "execution_count": 55,
   "metadata": {},
   "outputs": [],
   "source": [
    "empleado_1 = Empleados (\"Marina\", \"Gascó\", 33, \"SM\", 2018, 50, [\"python\"])"
   ]
  },
  {
   "cell_type": "code",
   "execution_count": 21,
   "metadata": {},
   "outputs": [
    {
     "data": {
      "text/plain": [
       "'Empleado 1 : Marina Gascó, Posición:SM, Año de ingreso:2018, Días de vacaciones restantes:50'"
      ]
     },
     "execution_count": 21,
     "metadata": {},
     "output_type": "execute_result"
    }
   ],
   "source": [
    "empleado_1.descripcion()"
   ]
  },
  {
   "cell_type": "code",
   "execution_count": 47,
   "metadata": {},
   "outputs": [
    {
     "data": {
      "text/plain": [
       "{'nombre': 'Marina',\n",
       " 'apellidos': 'Gascó',\n",
       " 'edad': 33,\n",
       " 'posicion': 'SM',\n",
       " 'año': 2018,\n",
       " 'vacaciones': 50,\n",
       " 'herramientas': 'python'}"
      ]
     },
     "execution_count": 47,
     "metadata": {},
     "output_type": "execute_result"
    }
   ],
   "source": [
    "empleado_1.__dict__"
   ]
  },
  {
   "cell_type": "code",
   "execution_count": 64,
   "metadata": {},
   "outputs": [
    {
     "data": {
      "text/plain": [
       "'¡Qué bien, estamos muy orgulloses de ti!'"
      ]
     },
     "execution_count": 64,
     "metadata": {},
     "output_type": "execute_result"
    }
   ],
   "source": [
    "empleado_1.cambiando_posicion()"
   ]
  },
  {
   "cell_type": "code",
   "execution_count": 44,
   "metadata": {},
   "outputs": [
    {
     "name": "stdout",
     "output_type": "stream",
     "text": [
      "None\n"
     ]
    }
   ],
   "source": [
    "print(empleado_1.cambiando_posicion())"
   ]
  },
  {
   "cell_type": "code",
   "execution_count": 61,
   "metadata": {},
   "outputs": [],
   "source": [
    "empleado_1.calcular_antiguedad()"
   ]
  },
  {
   "cell_type": "code",
   "execution_count": 62,
   "metadata": {},
   "outputs": [
    {
     "name": "stdout",
     "output_type": "stream",
     "text": [
      "None\n"
     ]
    }
   ],
   "source": [
    "print(empleado_1.calcular_antiguedad())"
   ]
  },
  {
   "cell_type": "code",
   "execution_count": 65,
   "metadata": {},
   "outputs": [
    {
     "ename": "TypeError",
     "evalue": "Empleados.__init__() missing 5 required positional arguments: 'edad', 'posicion', 'año', 'vacaciones', and 'herramientas'",
     "output_type": "error",
     "traceback": [
      "\u001b[0;31m---------------------------------------------------------------------------\u001b[0m",
      "\u001b[0;31mTypeError\u001b[0m                                 Traceback (most recent call last)",
      "Cell \u001b[0;32mIn[65], line 1\u001b[0m\n\u001b[0;32m----> 1\u001b[0m empleado_2 \u001b[38;5;241m=\u001b[39m \u001b[43mEmpleados\u001b[49m\u001b[43m \u001b[49m\u001b[43m(\u001b[49m\u001b[38;5;241;43m2\u001b[39;49m\u001b[43m,\u001b[49m\u001b[38;5;241;43m3\u001b[39;49m\u001b[43m)\u001b[49m\n",
      "\u001b[0;31mTypeError\u001b[0m: Empleados.__init__() missing 5 required positional arguments: 'edad', 'posicion', 'año', 'vacaciones', and 'herramientas'"
     ]
    }
   ],
   "source": [
    "empleado_2 = Empleados (2,3)"
   ]
  }
 ],
 "metadata": {
  "kernelspec": {
   "display_name": "Python 3",
   "language": "python",
   "name": "python3"
  },
  "language_info": {
   "codemirror_mode": {
    "name": "ipython",
    "version": 3
   },
   "file_extension": ".py",
   "mimetype": "text/x-python",
   "name": "python",
   "nbconvert_exporter": "python",
   "pygments_lexer": "ipython3",
   "version": "3.12.6"
  }
 },
 "nbformat": 4,
 "nbformat_minor": 2
}
