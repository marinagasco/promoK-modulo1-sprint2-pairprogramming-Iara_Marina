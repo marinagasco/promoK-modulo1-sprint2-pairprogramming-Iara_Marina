{
 "cells": [
  {
   "cell_type": "markdown",
   "metadata": {},
   "source": [
    "Ejericios bucles for:"
   ]
  },
  {
   "cell_type": "code",
   "execution_count": 1,
   "metadata": {},
   "outputs": [
    {
     "name": "stdout",
     "output_type": "stream",
     "text": [
      "1.\n",
      "1\n",
      "2\n",
      "3\n",
      "4\n",
      "5\n"
     ]
    }
   ],
   "source": [
    "print(\"1.\")\n",
    "\n",
    "for num in range (1,6):\n",
    "    print(num)"
   ]
  },
  {
   "cell_type": "code",
   "execution_count": 25,
   "metadata": {},
   "outputs": [
    {
     "name": "stdout",
     "output_type": "stream",
     "text": [
      "2.\n",
      "55\n"
     ]
    }
   ],
   "source": [
    "print(\"2.\")\n",
    "\n",
    "list_suma = 0 \n",
    "for num in (range(1, 11)):\n",
    "    list_suma += num\n",
    "print (list_suma)"
   ]
  },
  {
   "cell_type": "code",
   "execution_count": 23,
   "metadata": {},
   "outputs": [
    {
     "name": "stdout",
     "output_type": "stream",
     "text": [
      "3.\n",
      "120\n"
     ]
    }
   ],
   "source": [
    "\n",
    "print(\"3.\")\n",
    "\n",
    "lista_1 = [1,2,3,4,5]\n",
    "producto_num = 1\n",
    "for num in lista_1:\n",
    "    producto_num *= num\n",
    "print (producto_num)\n",
    "\n"
   ]
  },
  {
   "cell_type": "code",
   "execution_count": 28,
   "metadata": {},
   "outputs": [
    {
     "name": "stdout",
     "output_type": "stream",
     "text": [
      "4.\n",
      "h\n",
      "o\n",
      "l\n",
      "a\n",
      ",\n",
      " \n",
      "s\n",
      "o\n",
      "y\n",
      " \n",
      "a\n",
      "l\n",
      "g\n",
      "u\n",
      "i\n",
      "e\n",
      "n\n"
     ]
    }
   ],
   "source": [
    "print (\"4.\")\n",
    "\n",
    "texto_1 = \"hola, soy alguien\"\n",
    "for letras in texto_1:\n",
    "    print(letras)"
   ]
  },
  {
   "cell_type": "code",
   "execution_count": 31,
   "metadata": {},
   "outputs": [
    {
     "name": "stdout",
     "output_type": "stream",
     "text": [
      "5.\n",
      "2\n",
      "4\n",
      "6\n",
      "8\n",
      "10\n",
      "12\n",
      "14\n",
      "16\n",
      "18\n",
      "20\n",
      "22\n",
      "24\n",
      "26\n",
      "28\n",
      "30\n",
      "32\n",
      "34\n",
      "36\n",
      "38\n",
      "40\n",
      "42\n",
      "44\n",
      "46\n",
      "48\n",
      "50\n",
      "52\n",
      "54\n",
      "56\n",
      "58\n",
      "60\n",
      "62\n",
      "64\n",
      "66\n",
      "68\n",
      "70\n",
      "72\n",
      "74\n",
      "76\n",
      "78\n",
      "80\n",
      "82\n",
      "84\n",
      "86\n",
      "88\n",
      "90\n",
      "92\n",
      "94\n",
      "96\n",
      "98\n",
      "100\n"
     ]
    }
   ],
   "source": [
    "print(\"5.\")\n",
    "\n",
    "for pares in range(2,101,2):\n",
    "    print(pares)\n"
   ]
  },
  {
   "cell_type": "code",
   "execution_count": 32,
   "metadata": {},
   "outputs": [
    {
     "name": "stdout",
     "output_type": "stream",
     "text": [
      "6.\n"
     ]
    }
   ],
   "source": [
    "print (\"6.\")\n",
    "for primos in range(2,51):\n",
    "    print(pares)\n"
   ]
  },
  {
   "cell_type": "code",
   "execution_count": 35,
   "metadata": {},
   "outputs": [
    {
     "name": "stdout",
     "output_type": "stream",
     "text": [
      "7.\n",
      "1089\n"
     ]
    }
   ],
   "source": [
    "print(\"7.\")\n",
    "\n",
    "num1= 33\n",
    "for factorial in range(1,num1 + 1):\n",
    "    total_num = factorial \n",
    "    total_num *= factorial\n",
    "print(total_num)\n"
   ]
  },
  {
   "cell_type": "code",
   "execution_count": 2,
   "metadata": {},
   "outputs": [
    {
     "name": "stdout",
     "output_type": "stream",
     "text": [
      "8.\n",
      "python\n",
      "Lo has conseguido!\n"
     ]
    }
   ],
   "source": [
    "print(\"8.\")\n",
    "palabra_secreta = \"python\"\n",
    "intentos = 3\n",
    "while intentos <= 3: \n",
    "   pregunta = input (\"Prueba tu palabra secreta\")\n",
    "   print(pregunta)\n",
    "   if pregunta == palabra_secreta:\n",
    "        print( \"Lo has conseguido!\")\n",
    "        break\n",
    "   else: \n",
    "        print (\"Ohh...¡Vuelve a intentarlo!\")\n",
    "        \n",
    "    #for prueba in range (intentos):\n",
    "        #pregunta = palabra_secreta\n"
   ]
  },
  {
   "cell_type": "markdown",
   "metadata": {},
   "source": [
    "Ejercicios de list comprehension: "
   ]
  },
  {
   "cell_type": "code",
   "execution_count": 8,
   "metadata": {},
   "outputs": [
    {
     "name": "stdout",
     "output_type": "stream",
     "text": [
      "[2, 4, 6, 8, 10, 12, 14, 16, 18, 20]\n"
     ]
    }
   ],
   "source": [
    "lista_pares = [numeros for numeros in range(1,21) if numeros % 2 == 0]\n",
    "print (lista_pares)"
   ]
  },
  {
   "cell_type": "code",
   "execution_count": null,
   "metadata": {},
   "outputs": [],
   "source": []
  }
 ],
 "metadata": {
  "kernelspec": {
   "display_name": "Python 3",
   "language": "python",
   "name": "python3"
  },
  "language_info": {
   "codemirror_mode": {
    "name": "ipython",
    "version": 3
   },
   "file_extension": ".py",
   "mimetype": "text/x-python",
   "name": "python",
   "nbconvert_exporter": "python",
   "pygments_lexer": "ipython3",
   "version": "3.12.6"
  }
 },
 "nbformat": 4,
 "nbformat_minor": 2
}
