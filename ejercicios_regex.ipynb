{
 "cells": [
  {
   "cell_type": "markdown",
   "metadata": {},
   "source": [
    "Ejercicios REGEX"
   ]
  },
  {
   "cell_type": "code",
   "execution_count": 7,
   "metadata": {},
   "outputs": [],
   "source": [
    "import re"
   ]
  },
  {
   "cell_type": "code",
   "execution_count": 10,
   "metadata": {},
   "outputs": [
    {
     "name": "stdout",
     "output_type": "stream",
     "text": [
      "Son válidos: (123) 456-7890\n",
      "No son válidos: 178 1890-733\n",
      "Son válidos: (555) 238-1987\n",
      "No son válidos: (123) 4560-7890\n",
      "No son válidos: (ABC) 098-1111\n"
     ]
    }
   ],
   "source": [
    "# 1. Validar un número de teléfono.\n",
    "\n",
    "# Descripción: Verificar si una cadena representa un número de teléfono válido en el formato (XXX) XXX-XXXX.\n",
    "\n",
    "# Probad para cada uno de los teléfonos que tenemos en la siguiente lista:\n",
    "\n",
    "telefonos = [\"(123) 456-7890\", \"178 1890-733\", \"(555) 238-1987\", \"(123) 4560-7890\", \"(ABC) 098-1111\"]\n",
    "\n",
    "patron = r\"^\\(\\d{3}\\).\\d{3}-\\d{4}\"\n",
    "\n",
    "for tel in telefonos:\n",
    "    if re.search(patron,tel):\n",
    "        print(f\"Son válidos: {tel}\")\n",
    "    else:\n",
    "        print(f\"No son válidos: {tel}\")\n",
    "\n",
    "\n"
   ]
  },
  {
   "cell_type": "code",
   "execution_count": 34,
   "metadata": {},
   "outputs": [
    {
     "name": "stdout",
     "output_type": "stream",
     "text": [
      "user@example.com.\n",
      "john.doe@email.com\n"
     ]
    }
   ],
   "source": [
    "# 2. Buscar todas las direcciones de correo electrónico en un texto.\n",
    "\n",
    "# Descripción: Encontrar todas las direcciones de correo electrónico presentes en una cadena de texto.\n",
    "\n",
    "# Probad con el siguiente string:\n",
    "\n",
    "texto = \"Mi correo es user@example.com. Contacta conmigo en john.doe@email.com\"\n",
    "\n",
    "\n",
    "lista1 = texto.split(\" \")\n",
    "# print(lista1)\n",
    "\n",
    "patron1 = r\"\\.com*\"\n",
    "\n",
    "for correo in lista1:\n",
    "    if re.search (patron1, correo):\n",
    "        print(correo)\n",
    "    "
   ]
  },
  {
   "cell_type": "code",
   "execution_count": 43,
   "metadata": {},
   "outputs": [
    {
     "name": "stdout",
     "output_type": "stream",
     "text": [
      "Este código es válido: 12345\n",
      "Este código es válido: 78409\n",
      "Este código es válido: 19305\n"
     ]
    }
   ],
   "source": [
    "# 3.Validar un código postal.\n",
    "\n",
    "# Descripción: Verificar si una cadena representa un código postal válido de 5 dígitos.\n",
    "\n",
    "# Probad para cada uno de los códigos postales que tenemos en la siguiente lista:\n",
    "\n",
    "codigos_postales = [\"12345\", \"190037\", \"78409\", \"986449\", \"19305\"]\n",
    "\n",
    "patron2 = r\"^\\d{5}$\"\n",
    "\n",
    "for codigo in codigos_postales:\n",
    "    if re.match (patron2, codigo):\n",
    "        print(f\"Este código es válido: {codigo}\")"
   ]
  }
 ],
 "metadata": {
  "kernelspec": {
   "display_name": "base",
   "language": "python",
   "name": "python3"
  },
  "language_info": {
   "codemirror_mode": {
    "name": "ipython",
    "version": 3
   },
   "file_extension": ".py",
   "mimetype": "text/x-python",
   "name": "python",
   "nbconvert_exporter": "python",
   "pygments_lexer": "ipython3",
   "version": "3.12.4"
  }
 },
 "nbformat": 4,
 "nbformat_minor": 2
}
